{
  "nbformat": 4,
  "nbformat_minor": 0,
  "metadata": {
    "colab": {
      "provenance": []
    },
    "kernelspec": {
      "name": "python3",
      "display_name": "Python 3"
    },
    "language_info": {
      "name": "python"
    }
  },
  "cells": [
    {
      "cell_type": "code",
      "execution_count": null,
      "metadata": {
        "colab": {
          "base_uri": "https://localhost:8080/"
        },
        "id": "F7ujheXUoC5L",
        "outputId": "165812b5-7f43-469b-f13e-5e3c01714a12"
      },
      "outputs": [
        {
          "output_type": "stream",
          "name": "stdout",
          "text": [
            " * Serving Flask app '__main__'\n",
            " * Debug mode: on\n"
          ]
        },
        {
          "output_type": "stream",
          "name": "stderr",
          "text": [
            "INFO:werkzeug:\u001b[31m\u001b[1mWARNING: This is a development server. Do not use it in a production deployment. Use a production WSGI server instead.\u001b[0m\n",
            " * Running on http://127.0.0.1:5000\n",
            "INFO:werkzeug:\u001b[33mPress CTRL+C to quit\u001b[0m\n",
            "INFO:werkzeug: * Restarting with stat\n"
          ]
        }
      ],
      "source": [
        "from flask import Flask, request, jsonify\n",
        "import nltk\n",
        "from nltk.chat.util import Chat, reflections\n",
        "\n",
        "app = Flask(__name__)\n",
        "\n",
        "# Sample pairs for basic Q&A\n",
        "pairs = [\n",
        "    [\n",
        "        r\"hi|hello|hey\",\n",
        "        [\"Hello! How can I assist you with college admissions today?\"]\n",
        "    ],\n",
        "    [\n",
        "        r\"(.*) admission requirements (.*)\",\n",
        "        [\"You typically need to provide transcripts, standardized test scores, and letters of recommendation.\"]\n",
        "    ],\n",
        "    [\n",
        "        r\"(.*) application process (.*)\",\n",
        "        [\"The application process usually involves filling out an online application, submitting required documents, and paying an application fee.\"]\n",
        "    ],\n",
        "    [\n",
        "        r\"what (.*) deadlines (.*)\",\n",
        "        [\"Deadlines vary by college, but most have early decision, regular decision, and rolling admissions. It's best to check the specific college's website.\"]\n",
        "    ],\n",
        "    [\n",
        "        r\"quit\",\n",
        "        [\"Thank you for your questions! Good luck with your college applications!\"]\n",
        "    ]\n",
        "]\n",
        "\n",
        "# Create a chatbot instance\n",
        "chat = Chat(pairs, reflections)\n",
        "\n",
        "@app.route('/chat', methods=['POST'])\n",
        "def chat_interface():\n",
        "    user_input = request.json.get('message')\n",
        "    response = chat.respond(user_input)\n",
        "    if response is None:\n",
        "        response = \"I'm sorry, I didn't understand that. Can you please rephrase?\"\n",
        "    return jsonify({'response': response})\n",
        "\n",
        "if __name__ == '__main__':\n",
        "    app.run(debug=True)\n"
      ]
    },
    {
      "cell_type": "code",
      "source": [
        "<!DOCTYPE html>\n",
        "<html lang=\"en\">\n",
        "<head>\n",
        "    <meta charset=\"UTF-8\">\n",
        "    <meta name=\"viewport\" content=\"width=device-width, initial-scale=1.0\">\n",
        "    <title>College Admission Q&A Bot</title>\n",
        "</head>\n",
        "<body>\n",
        "    <h1>College Admission Q&A Bot</h1>\n",
        "    <div id=\"chatbox\"></div>\n",
        "    <input type=\"text\" id=\"user-input\" placeholder=\"Ask your question here...\">\n",
        "    <button onclick=\"sendMessage()\">Send</button>\n",
        "\n",
        "    <script>\n",
        "        async function sendMessage() {\n",
        "            const inputField = document.getElementById(\"user-input\");\n",
        "            const userMessage = inputField.value;\n",
        "            inputField.value = '';\n",
        "\n",
        "            const response = await fetch('/chat', {\n",
        "                method: 'POST',\n",
        "                headers: {\n",
        "                    'Content-Type': 'application/json',\n",
        "                },\n",
        "                body: JSON.stringify({ message: userMessage }),\n",
        "            });\n",
        "            const data = await response.json();\n",
        "\n",
        "            const chatbox = document.getElementById(\"chatbox\");\n",
        "            chatbox.innerHTML += `<p><strong>You:</strong> ${userMessage}</p>`;\n",
        "            chatbox.innerHTML += `<p><strong>Bot:</strong> ${data.response}</p>`;\n",
        "        }\n",
        "    </script>\n",
        "</body>\n",
        "</html>\n"
      ],
      "metadata": {
        "id": "-ZZbmPU6oFry"
      },
      "execution_count": null,
      "outputs": []
    },
    {
      "cell_type": "code",
      "source": [],
      "metadata": {
        "id": "sUp0NYFhoLrg"
      },
      "execution_count": null,
      "outputs": []
    }
  ]
}